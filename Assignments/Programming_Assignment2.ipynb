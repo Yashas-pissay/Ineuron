{
 "cells": [
  {
   "cell_type": "markdown",
   "metadata": {},
   "source": [
    "1. Write a Python program to convert kilometers to miles?"
   ]
  },
  {
   "cell_type": "code",
   "execution_count": 1,
   "metadata": {},
   "outputs": [
    {
     "name": "stdout",
     "output_type": "stream",
     "text": [
      "enter values in kms : 10\n",
      "converted values of kms in miles :  6.21371\n"
     ]
    }
   ],
   "source": [
    "km = float(input('enter values in kms : '))\n",
    "ratio = 0.621371\n",
    "miles = km * ratio\n",
    "print('converted values of kms in miles : ',miles)"
   ]
  },
  {
   "cell_type": "markdown",
   "metadata": {},
   "source": [
    "2. Write a Python program to convert Celsius to Fahrenheit?"
   ]
  },
  {
   "cell_type": "code",
   "execution_count": 2,
   "metadata": {},
   "outputs": [
    {
     "name": "stdout",
     "output_type": "stream",
     "text": [
      "enter the value in celsius : 58.3\n",
      "converted value of celsius to fahrenhit :  136.94\n"
     ]
    }
   ],
   "source": [
    "celsius = float(input('enter the value in celsius : '))\n",
    "fahrenheit = (celsius * 1.8) + 32\n",
    "print('converted value of celsius to fahrenhit : ',fahrenheit)"
   ]
  },
  {
   "cell_type": "markdown",
   "metadata": {},
   "source": [
    "3. Write a Python program to display calendar?"
   ]
  },
  {
   "cell_type": "code",
   "execution_count": 3,
   "metadata": {},
   "outputs": [
    {
     "name": "stdout",
     "output_type": "stream",
     "text": [
      "enter the year : 2022\n",
      "enter the month : 6\n",
      "     June 2022\n",
      "Mo Tu We Th Fr Sa Su\n",
      "       1  2  3  4  5\n",
      " 6  7  8  9 10 11 12\n",
      "13 14 15 16 17 18 19\n",
      "20 21 22 23 24 25 26\n",
      "27 28 29 30\n",
      "\n"
     ]
    }
   ],
   "source": [
    "import calendar\n",
    "yy = int(input('enter the year : '))\n",
    "mm = int(input('enter the month : '))\n",
    "print(calendar.month(yy,mm))"
   ]
  },
  {
   "cell_type": "markdown",
   "metadata": {},
   "source": [
    "4. Write a Python program to solve quadratic equation?"
   ]
  },
  {
   "cell_type": "code",
   "execution_count": 4,
   "metadata": {},
   "outputs": [
    {
     "name": "stdout",
     "output_type": "stream",
     "text": [
      "enter a :10\n",
      "enter b :11\n",
      "enter c :12\n",
      "The roots of x :  (-0.55-0.9473647660748208j)  The roots of y :  (-0.55+0.9473647660748208j)\n"
     ]
    }
   ],
   "source": [
    "import cmath\n",
    "a = float(input('enter a :'))\n",
    "b = float(input('enter b :'))\n",
    "c = float(input('enter c :'))\n",
    "  \n",
    "d = (b**2) - (4 * a*c)\n",
    "  \n",
    "x = (-b-cmath.sqrt(d))/(2 * a)\n",
    "y = (-b + cmath.sqrt(d))/(2 * a)\n",
    "  \n",
    "print('The roots of x : ',x,' The roots of y : ',y)"
   ]
  },
  {
   "cell_type": "markdown",
   "metadata": {},
   "source": [
    "5. Write a Python program to swap two variables without temp variable?"
   ]
  },
  {
   "cell_type": "code",
   "execution_count": 5,
   "metadata": {},
   "outputs": [
    {
     "name": "stdout",
     "output_type": "stream",
     "text": [
      "yashas pissay\n",
      "pissay yashas\n"
     ]
    }
   ],
   "source": [
    "a = 'yashas'\n",
    "b = 'pissay'\n",
    "print(a,b)\n",
    "\n",
    "a,b = b,a\n",
    "\n",
    "print(a,b)"
   ]
  }
 ],
 "metadata": {
  "kernelspec": {
   "display_name": "Python 3",
   "language": "python",
   "name": "python3"
  },
  "language_info": {
   "codemirror_mode": {
    "name": "ipython",
    "version": 3
   },
   "file_extension": ".py",
   "mimetype": "text/x-python",
   "name": "python",
   "nbconvert_exporter": "python",
   "pygments_lexer": "ipython3",
   "version": "3.7.3"
  }
 },
 "nbformat": 4,
 "nbformat_minor": 2
}
