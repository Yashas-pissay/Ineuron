{
 "cells": [
  {
   "cell_type": "markdown",
   "metadata": {},
   "source": [
    "Q1. What is the purpose of Python's OOP?"
   ]
  },
  {
   "cell_type": "code",
   "execution_count": null,
   "metadata": {},
   "outputs": [],
   "source": [
    "Python is a programming language that uses classes and objects.\n",
    "\n",
    "It aims the real world entity like encapuslation, inheritance, polymorpshim, abstartion."
   ]
  },
  {
   "cell_type": "markdown",
   "metadata": {},
   "source": [
    "Q2. Where does an inheritance search look for an attribute?"
   ]
  },
  {
   "cell_type": "code",
   "execution_count": null,
   "metadata": {},
   "outputs": [],
   "source": [
    "inheritance happens when an object is recognized, and involves searching an attribute definition tree(one or more namespaces)"
   ]
  },
  {
   "cell_type": "markdown",
   "metadata": {},
   "source": [
    "Q3. How do you distinguish between a class object and an instance object?"
   ]
  },
  {
   "cell_type": "code",
   "execution_count": 4,
   "metadata": {},
   "outputs": [
    {
     "name": "stdout",
     "output_type": "stream",
     "text": [
      "3 4\n",
      "5 4\n"
     ]
    }
   ],
   "source": [
    "class test(): # ------------------------------>  class object\n",
    "    x = 10\n",
    "    def __init__(self, a, b):\n",
    "        self.a = a\n",
    "        self.b = b\n",
    "    def show(self):\n",
    "        print(self.a,self.b)\n",
    "        \n",
    "t = test(3,4) #-------------------------------> instance object\n",
    "t.show()\n",
    "t1 = test(5,4) #-------------------------------> instance object\n",
    "t1.show()\n",
    "\n",
    "\n",
    "\"\"\"\n",
    "class object - class object is created whenever the class is created and its only one object and it has static variable.\n",
    "                                \n",
    "               class object inherits the attributes of its parent classes.\n",
    "               \n",
    "               \n",
    "\n",
    "instance object - we can create instance object whenever we want.\n",
    "                \n",
    "                  when we call a class, it creates an instance object of that class from which the object has been created.\n",
    "    \n",
    "                  instance object inherits the attributes of the class object from which it was created.\n",
    "\"\"\""
   ]
  },
  {
   "cell_type": "markdown",
   "metadata": {},
   "source": [
    "Q4. What makes the first argument in a class’s method function special?"
   ]
  },
  {
   "cell_type": "code",
   "execution_count": null,
   "metadata": {},
   "outputs": [],
   "source": [
    "The first argument of a method is called self. And It is not a keyword and has no special meaning in Python.\n",
    "\n",
    "This is the reason the first parameter of a function in class must be the object itself"
   ]
  },
  {
   "cell_type": "markdown",
   "metadata": {},
   "source": [
    "Q5. What is the purpose of the __init__ method?"
   ]
  },
  {
   "cell_type": "code",
   "execution_count": null,
   "metadata": {},
   "outputs": [],
   "source": [
    "This method is called when an object is created from a class and \n",
    "it allows the class to initialize the attributes of the class"
   ]
  },
  {
   "cell_type": "markdown",
   "metadata": {},
   "source": [
    "Q6. What is the process for creating a class instance?"
   ]
  },
  {
   "cell_type": "code",
   "execution_count": null,
   "metadata": {},
   "outputs": [],
   "source": [
    "To create instances of a class, we call the class using class name and pass in whatever arguments its __init__ method accepts"
   ]
  },
  {
   "cell_type": "markdown",
   "metadata": {},
   "source": [
    "Q7. What is the process for creating a class?"
   ]
  },
  {
   "cell_type": "code",
   "execution_count": null,
   "metadata": {},
   "outputs": [],
   "source": [
    "A class can be created by using the keyword class, followed by the class name"
   ]
  },
  {
   "cell_type": "markdown",
   "metadata": {},
   "source": [
    "Q8. How would you define the superclasses of a class?"
   ]
  },
  {
   "cell_type": "code",
   "execution_count": null,
   "metadata": {},
   "outputs": [],
   "source": [
    "A superclass is the class from which many subclasses can be created. \n",
    "\n",
    "The subclasses inherit the characteristics of a superclass.\n",
    "\n",
    "The superclass is also known as the parent class or base class.\n",
    "\n",
    "class bank:\n",
    "    \n",
    "    def transaction(self):\n",
    "        print('total transaction values')\n",
    "        \n",
    "class icic(bank):\n",
    "    pass"
   ]
  }
 ],
 "metadata": {
  "kernelspec": {
   "display_name": "Python 3",
   "language": "python",
   "name": "python3"
  },
  "language_info": {
   "codemirror_mode": {
    "name": "ipython",
    "version": 3
   },
   "file_extension": ".py",
   "mimetype": "text/x-python",
   "name": "python",
   "nbconvert_exporter": "python",
   "pygments_lexer": "ipython3",
   "version": "3.7.3"
  }
 },
 "nbformat": 4,
 "nbformat_minor": 2
}
