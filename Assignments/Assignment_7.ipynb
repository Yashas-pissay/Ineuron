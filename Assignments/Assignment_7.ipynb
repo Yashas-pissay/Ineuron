{
 "cells": [
  {
   "cell_type": "markdown",
   "metadata": {},
   "source": [
    "Q1. What is the name of the feature responsible for generating Regex objects?"
   ]
  },
  {
   "cell_type": "code",
   "execution_count": null,
   "metadata": {},
   "outputs": [],
   "source": [
    "The re. compile() function returns Regex objects."
   ]
  },
  {
   "cell_type": "markdown",
   "metadata": {},
   "source": [
    "Q2. Why do raw strings often appear in Regex objects?"
   ]
  },
  {
   "cell_type": "code",
   "execution_count": null,
   "metadata": {},
   "outputs": [],
   "source": [
    "Raw strings are used so that backslashes do not have to be escaped."
   ]
  },
  {
   "cell_type": "markdown",
   "metadata": {},
   "source": [
    "Q3. What is the return value of the search() method?"
   ]
  },
  {
   "cell_type": "code",
   "execution_count": null,
   "metadata": {},
   "outputs": [],
   "source": [
    "The search() method returns the index position of the first match  or match objects.\n",
    "The search() method returns -1 if no match is found."
   ]
  },
  {
   "cell_type": "markdown",
   "metadata": {},
   "source": [
    "Q4. From a Match item, how do you get the actual strings that match the pattern?"
   ]
  },
  {
   "cell_type": "code",
   "execution_count": null,
   "metadata": {},
   "outputs": [],
   "source": [
    "The group() method returns strings of the matched text."
   ]
  },
  {
   "cell_type": "markdown",
   "metadata": {},
   "source": [
    "Q5. In the regex which created from the r'(\\d\\d\\d)-(\\d\\d\\d-\\d\\d\\d\\d)', what does group zero cover?\n",
    "Group 2? Group 1?"
   ]
  },
  {
   "cell_type": "code",
   "execution_count": null,
   "metadata": {},
   "outputs": [],
   "source": [
    "Group 0 is the entire match.\n",
    "Group 1 covers the first set of parentheses\n",
    "Group 2 covers the second set of parentheses."
   ]
  },
  {
   "cell_type": "markdown",
   "metadata": {},
   "source": [
    "Q6. In standard expression syntax, parentheses and intervals have distinct meanings. How can you tell\n",
    "a regex that you want it to fit real parentheses and periods?"
   ]
  },
  {
   "cell_type": "code",
   "execution_count": null,
   "metadata": {},
   "outputs": [],
   "source": [
    "Periods and parentheses can be escaped with a backslash: \\., \\(, and \\)."
   ]
  },
  {
   "cell_type": "markdown",
   "metadata": {},
   "source": [
    "Q7. The findall() method returns a string list or a list of string tuples. What causes it to return one of\n",
    "the two options?"
   ]
  },
  {
   "cell_type": "code",
   "execution_count": null,
   "metadata": {},
   "outputs": [],
   "source": [
    "If the regex has no groups, a list of strings is returned. \n",
    "\n",
    "If the regex has groups, a list of tuples of strings is returned."
   ]
  },
  {
   "cell_type": "markdown",
   "metadata": {},
   "source": [
    "Q8. In standard expressions, what does the | character mean?"
   ]
  },
  {
   "cell_type": "code",
   "execution_count": null,
   "metadata": {},
   "outputs": [],
   "source": [
    "The | character signifies matching “either, or” between two groups."
   ]
  },
  {
   "cell_type": "markdown",
   "metadata": {},
   "source": [
    "Q9. In regular expressions, what does the character stand for?"
   ]
  },
  {
   "cell_type": "code",
   "execution_count": null,
   "metadata": {},
   "outputs": [],
   "source": [
    "Each character in a regular expression i.e  each character in the string describing its pattern is either a metacharacter,\n",
    "having a special meaning, or a regular character that has a literal meaning.\n",
    "\n",
    "or  \n",
    "\n",
    "Regular expression consists of a sequence of sub-expressions, [0-9] and +.\n",
    "\n",
    "The [...] , known as character class (or bracket list), encloses a list of characters. "
   ]
  },
  {
   "cell_type": "markdown",
   "metadata": {},
   "source": [
    "Q10.In regular expressions, what is the difference between the + and * characters?"
   ]
  },
  {
   "cell_type": "code",
   "execution_count": null,
   "metadata": {},
   "outputs": [],
   "source": [
    "The + matches one or more.\n",
    "\n",
    "The * matches zero or more."
   ]
  },
  {
   "cell_type": "markdown",
   "metadata": {},
   "source": [
    "Q11. What is the difference between {4} and {4,5} in regular expression?"
   ]
  },
  {
   "cell_type": "code",
   "execution_count": null,
   "metadata": {},
   "outputs": [],
   "source": [
    "The {4} matches exactly three instances of the preceding group. \n",
    "\n",
    "The {4,5} matches between three and five instances."
   ]
  },
  {
   "cell_type": "markdown",
   "metadata": {},
   "source": [
    "Q12. What do you mean by the \\d,\\w,and \\s shorthand character claases signify in regular expressions?"
   ]
  },
  {
   "cell_type": "code",
   "execution_count": null,
   "metadata": {},
   "outputs": [],
   "source": [
    "The \\d,\\w,and\\s shorthand character classes matches a single digit,word,or space character,respectively."
   ]
  },
  {
   "cell_type": "markdown",
   "metadata": {},
   "source": [
    "Q13. What do you means by \\D, \\W, and\\S shorthand character classes signify in regullar expressions?"
   ]
  },
  {
   "cell_type": "code",
   "execution_count": null,
   "metadata": {},
   "outputs": [],
   "source": [
    "The\\D,\\W,or\\S shorthand character classes match a single character that is not a digit,word,or space character,respectively."
   ]
  },
  {
   "cell_type": "markdown",
   "metadata": {},
   "source": [
    "Q14. What is the difference between .*? and.*"
   ]
  },
  {
   "cell_type": "code",
   "execution_count": null,
   "metadata": {},
   "outputs": [],
   "source": [
    "The .* performs a  greedy match,and the .*? performs a non greedy  match."
   ]
  },
  {
   "cell_type": "markdown",
   "metadata": {},
   "source": [
    "Q15. What is the  syntax  for matcching both numbers and lowercase  letters with a character  class?\n"
   ]
  },
  {
   "cell_type": "code",
   "execution_count": null,
   "metadata": {},
   "outputs": [],
   "source": [
    "Either[0-9a-z] or[a-z0-9]"
   ]
  },
  {
   "cell_type": "markdown",
   "metadata": {},
   "source": [
    "Q16. What is the procedure for making a normal expressions inn regax case inssensitive?"
   ]
  },
  {
   "cell_type": "code",
   "execution_count": null,
   "metadata": {},
   "outputs": [],
   "source": [
    "Passing re.I or re.IGNORECASE as the second argument to re.compile() will make the matching case insensitive."
   ]
  },
  {
   "cell_type": "markdown",
   "metadata": {},
   "source": [
    "Q17. What does the .character normally match? What  does it mean if re.DOTALL is possed as 2nd argument in re.compile()? \n"
   ]
  },
  {
   "cell_type": "code",
   "execution_count": null,
   "metadata": {},
   "outputs": [],
   "source": [
    "The character normally matches any character except the newline character.If re.DOTALLL is passed as the second\n",
    "argument to re.compile(),then the dot will also match the newline characters."
   ]
  },
  {
   "cell_type": "markdown",
   "metadata": {},
   "source": [
    "Q18. If numReg = compile(r'\\d+'), what will numRegex.sub('X','11 drummers,10pipers,five rings,4hen')return"
   ]
  },
  {
   "cell_type": "code",
   "execution_count": null,
   "metadata": {},
   "outputs": [],
   "source": [
    "'X drummers,X pipers,five rings,Xhens'"
   ]
  },
  {
   "cell_type": "markdown",
   "metadata": {},
   "source": [
    "Q19. What does passing re.VERBOSE as  the 2nd argumment to re.compile() allow to do?\n"
   ]
  },
  {
   "cell_type": "code",
   "execution_count": null,
   "metadata": {},
   "outputs": [],
   "source": [
    "The re.VERBOSE  arguments allow you to add whitespace and comments to the  striings passed to re.commpile()"
   ]
  },
  {
   "cell_type": "code",
   "execution_count": null,
   "metadata": {},
   "outputs": [],
   "source": [
    "#Q20. How do you write a regex that a number with comma for every three digits?It must match the given following:\n",
    "#     '42'\n",
    "#     '1,234'\n",
    "#     '6,368,745'\n",
    "#     but not the following:\n",
    "#     '12,34,567'(which has only digit between the commas)\n",
    "#     '1234'(which lacks commas)"
   ]
  },
  {
   "cell_type": "code",
   "execution_count": null,
   "metadata": {},
   "outputs": [],
   "source": [
    " e.compiler(r'^\\d{1,3}(,{3})*$')will create  this regex,but other regex strings can produce a similar regular expressions."
   ]
  },
  {
   "cell_type": "code",
   "execution_count": null,
   "metadata": {},
   "outputs": [],
   "source": [
    "#Q21. How wpuld you write a regex that matches the full nname of someone whose  last name is Watanabe?You can assume the first \n",
    "#     name that comes before it will always be one word that begins with a capital letter.The regex must match the following:\n",
    "#     'Haruto Watanabe'\n",
    "#     'Robocop Wantanbae'\n",
    "#      bout not the following:\n",
    "#      'haruto Wantanbae'(where the first name is not capitalize)\n",
    "#      'Mr. Wantanbae'(where the preceding word has a nonleytter character)\n",
    "#      'Wantanbae'(which has no first  name)\n",
    "#      'Haruto wantanbae'(where Wantanbae is not capitalize)"
   ]
  },
  {
   "cell_type": "code",
   "execution_count": null,
   "metadata": {},
   "outputs": [],
   "source": [
    "re.compiler(r'[A-Z][a-z]*\\sWantanbae')"
   ]
  },
  {
   "cell_type": "code",
   "execution_count": null,
   "metadata": {},
   "outputs": [],
   "source": [
    "#Q22. How would you write a regex that matches a sentence where the first word is either Alice,Bob or Carol;the second word is \n",
    "#     either eats,pets,or throws;the third word is apples,cats,or baseballs;and the sentence ends with a period?This regex \n",
    "#     should be case-insensitive.It must match the following:\n",
    "#     'Alice eats apples.'\n",
    "#     'Bob pets cats.'\n",
    "#     'Carol throws baseballs.'\n",
    "#      'Alice throws Apples.'\n",
    "#     'BOB EATS CATS.'\n",
    "#     but not the following:\n",
    "#     'RoboCop eats appples.'\n",
    "#      'ALICE THROWS  FOOTBALLS.'\n",
    "#      'Carol eats 7 cats.'"
   ]
  },
  {
   "cell_type": "code",
   "execution_count": null,
   "metadata": {},
   "outputs": [],
   "source": []
  }
 ],
 "metadata": {
  "kernelspec": {
   "display_name": "Python 3",
   "language": "python",
   "name": "python3"
  },
  "language_info": {
   "codemirror_mode": {
    "name": "ipython",
    "version": 3
   },
   "file_extension": ".py",
   "mimetype": "text/x-python",
   "name": "python",
   "nbconvert_exporter": "python",
   "pygments_lexer": "ipython3",
   "version": "3.7.3"
  }
 },
 "nbformat": 4,
 "nbformat_minor": 2
}
