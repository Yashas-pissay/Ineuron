{
 "cells": [
  {
   "cell_type": "markdown",
   "id": "34e02e95",
   "metadata": {},
   "source": [
    "**Move Zeroes**\n",
    "Given an integer array nums, move all 0's to the end of it while maintaining the relative order of the non-zero elements.\n",
    "\n",
    "Note that you must do this in-place without making a copy of the array.\n",
    "\n",
    "Example 1:\n",
    "Input: nums = [0,1,0,3,12]\n",
    "Output: [1,3,12,0,0]\n",
    "\n",
    "Example 2:\n",
    "Input: nums = [0]\n",
    "Output: [0]\n",
    "\n",
    "Constraints:\n",
    "a. 1 <= nums.length <= 10^4\n",
    "b. -2^31 <= nums[i] <= 2^31 - 1"
   ]
  },
  {
   "cell_type": "code",
   "execution_count": 1,
   "id": "0ea82a76",
   "metadata": {},
   "outputs": [],
   "source": [
    "def moveZeroes(nums):\n",
    "    n = len(nums)\n",
    "    left = 0  # Pointer to track the current position to place non-zero elements\n",
    "\n",
    "    # Iterate through the array\n",
    "    for i in range(n):\n",
    "        if nums[i] != 0:\n",
    "            nums[left] = nums[i]\n",
    "            left += 1\n",
    "\n",
    "    # Fill the remaining positions with zeroes\n",
    "    while left < n:\n",
    "        nums[left] = 0\n",
    "        left += 1"
   ]
  },
  {
   "cell_type": "code",
   "execution_count": 2,
   "id": "3207e3b5",
   "metadata": {},
   "outputs": [
    {
     "name": "stdout",
     "output_type": "stream",
     "text": [
      "[1, 3, 12, 0, 0]\n"
     ]
    }
   ],
   "source": [
    "nums1 = [0, 1, 0, 3, 12]\n",
    "moveZeroes(nums1)\n",
    "print(nums1)"
   ]
  },
  {
   "cell_type": "code",
   "execution_count": 3,
   "id": "e6b618b7",
   "metadata": {},
   "outputs": [
    {
     "name": "stdout",
     "output_type": "stream",
     "text": [
      "[0]\n"
     ]
    }
   ],
   "source": [
    "nums2 = [0]\n",
    "moveZeroes(nums2)\n",
    "print(nums2) "
   ]
  },
  {
   "cell_type": "code",
   "execution_count": null,
   "id": "03d6be0f",
   "metadata": {},
   "outputs": [],
   "source": []
  }
 ],
 "metadata": {
  "kernelspec": {
   "display_name": "Python 3 (ipykernel)",
   "language": "python",
   "name": "python3"
  },
  "language_info": {
   "codemirror_mode": {
    "name": "ipython",
    "version": 3
   },
   "file_extension": ".py",
   "mimetype": "text/x-python",
   "name": "python",
   "nbconvert_exporter": "python",
   "pygments_lexer": "ipython3",
   "version": "3.10.9"
  }
 },
 "nbformat": 4,
 "nbformat_minor": 5
}
